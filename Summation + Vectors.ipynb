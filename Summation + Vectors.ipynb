{
 "cells": [
  {
   "cell_type": "markdown",
   "id": "d7ece5d8-1a25-4710-90a6-711b27f508f3",
   "metadata": {},
   "source": [
    "# Pyomo (Summation and Vectors)"
   ]
  },
  {
   "cell_type": "markdown",
   "id": "3df74a4c-60ca-4e19-8e45-2f6cdd65a523",
   "metadata": {},
   "source": [
    "## Lybraries"
   ]
  },
  {
   "cell_type": "code",
   "execution_count": 9,
   "id": "91c33c5a-d137-4751-9472-aa84fd4192a9",
   "metadata": {},
   "outputs": [],
   "source": [
    "import pandas as pd\n",
    "import pyomo.environ as pyo\n",
    "from pyomo.environ import *\n",
    "from pyomo.opt import SolverFactory\n",
    "\n",
    "from IPython.display import display\n",
    "import plotly.express as px"
   ]
  },
  {
   "cell_type": "markdown",
   "id": "12040436-ff58-499a-95a3-36d20a56e4d1",
   "metadata": {},
   "source": [
    "## Collecting data"
   ]
  },
  {
   "cell_type": "code",
   "execution_count": 3,
   "id": "48eadd6c-5b4a-48f7-a3c0-2782f59d0b83",
   "metadata": {},
   "outputs": [],
   "source": [
    "#dados entrada\n",
    "dados_geracao = pd.read_excel('datasets/inputs_dados_v01.xlsx', sheet_name='geracao')\n",
    "dados_carga = pd.read_excel('datasets/inputs_dados_v01.xlsx', sheet_name='carga')\n",
    "dados_dependencia = pd.read_excel('datasets/inputs_dados_v01.xlsx', sheet_name='dependencia')\n",
    "Ng = len(dados_geracao)"
   ]
  },
  {
   "cell_type": "markdown",
   "id": "402f716a-8348-44d9-b7a8-dc8fde2d1f79",
   "metadata": {},
   "source": [
    "## Explore the data"
   ]
  },
  {
   "cell_type": "code",
   "execution_count": 6,
   "id": "1963698b-d482-4b2c-89fc-5a09e1ceb6fb",
   "metadata": {},
   "outputs": [
    {
     "data": {
      "text/html": [
       "<div>\n",
       "<style scoped>\n",
       "    .dataframe tbody tr th:only-of-type {\n",
       "        vertical-align: middle;\n",
       "    }\n",
       "\n",
       "    .dataframe tbody tr th {\n",
       "        vertical-align: top;\n",
       "    }\n",
       "\n",
       "    .dataframe thead th {\n",
       "        text-align: right;\n",
       "    }\n",
       "</style>\n",
       "<table border=\"1\" class=\"dataframe\">\n",
       "  <thead>\n",
       "    <tr style=\"text-align: right;\">\n",
       "      <th></th>\n",
       "      <th>id</th>\n",
       "      <th>maximo</th>\n",
       "      <th>custo</th>\n",
       "    </tr>\n",
       "  </thead>\n",
       "  <tbody>\n",
       "    <tr>\n",
       "      <th>0</th>\n",
       "      <td>0</td>\n",
       "      <td>20</td>\n",
       "      <td>0.10</td>\n",
       "    </tr>\n",
       "    <tr>\n",
       "      <th>1</th>\n",
       "      <td>1</td>\n",
       "      <td>10</td>\n",
       "      <td>0.05</td>\n",
       "    </tr>\n",
       "    <tr>\n",
       "      <th>2</th>\n",
       "      <td>2</td>\n",
       "      <td>40</td>\n",
       "      <td>0.30</td>\n",
       "    </tr>\n",
       "    <tr>\n",
       "      <th>3</th>\n",
       "      <td>3</td>\n",
       "      <td>50</td>\n",
       "      <td>0.40</td>\n",
       "    </tr>\n",
       "    <tr>\n",
       "      <th>4</th>\n",
       "      <td>4</td>\n",
       "      <td>5</td>\n",
       "      <td>0.01</td>\n",
       "    </tr>\n",
       "  </tbody>\n",
       "</table>\n",
       "</div>"
      ],
      "text/plain": [
       "   id  maximo  custo\n",
       "0   0      20   0.10\n",
       "1   1      10   0.05\n",
       "2   2      40   0.30\n",
       "3   3      50   0.40\n",
       "4   4       5   0.01"
      ]
     },
     "metadata": {},
     "output_type": "display_data"
    },
    {
     "data": {
      "text/html": [
       "<div>\n",
       "<style scoped>\n",
       "    .dataframe tbody tr th:only-of-type {\n",
       "        vertical-align: middle;\n",
       "    }\n",
       "\n",
       "    .dataframe tbody tr th {\n",
       "        vertical-align: top;\n",
       "    }\n",
       "\n",
       "    .dataframe thead th {\n",
       "        text-align: right;\n",
       "    }\n",
       "</style>\n",
       "<table border=\"1\" class=\"dataframe\">\n",
       "  <thead>\n",
       "    <tr style=\"text-align: right;\">\n",
       "      <th></th>\n",
       "      <th>id</th>\n",
       "      <th>valor</th>\n",
       "    </tr>\n",
       "  </thead>\n",
       "  <tbody>\n",
       "    <tr>\n",
       "      <th>0</th>\n",
       "      <td>0</td>\n",
       "      <td>50</td>\n",
       "    </tr>\n",
       "    <tr>\n",
       "      <th>1</th>\n",
       "      <td>1</td>\n",
       "      <td>20</td>\n",
       "    </tr>\n",
       "    <tr>\n",
       "      <th>2</th>\n",
       "      <td>2</td>\n",
       "      <td>30</td>\n",
       "    </tr>\n",
       "  </tbody>\n",
       "</table>\n",
       "</div>"
      ],
      "text/plain": [
       "   id  valor\n",
       "0   0     50\n",
       "1   1     20\n",
       "2   2     30"
      ]
     },
     "metadata": {},
     "output_type": "display_data"
    },
    {
     "data": {
      "text/html": [
       "<div>\n",
       "<style scoped>\n",
       "    .dataframe tbody tr th:only-of-type {\n",
       "        vertical-align: middle;\n",
       "    }\n",
       "\n",
       "    .dataframe tbody tr th {\n",
       "        vertical-align: top;\n",
       "    }\n",
       "\n",
       "    .dataframe thead th {\n",
       "        text-align: right;\n",
       "    }\n",
       "</style>\n",
       "<table border=\"1\" class=\"dataframe\">\n",
       "  <thead>\n",
       "    <tr style=\"text-align: right;\">\n",
       "      <th></th>\n",
       "      <th>carga</th>\n",
       "      <th>gerador</th>\n",
       "    </tr>\n",
       "  </thead>\n",
       "  <tbody>\n",
       "    <tr>\n",
       "      <th>0</th>\n",
       "      <td>0</td>\n",
       "      <td>0</td>\n",
       "    </tr>\n",
       "    <tr>\n",
       "      <th>1</th>\n",
       "      <td>0</td>\n",
       "      <td>3</td>\n",
       "    </tr>\n",
       "  </tbody>\n",
       "</table>\n",
       "</div>"
      ],
      "text/plain": [
       "   carga  gerador\n",
       "0      0        0\n",
       "1      0        3"
      ]
     },
     "metadata": {},
     "output_type": "display_data"
    }
   ],
   "source": [
    "# quanto cada equipamento gera de energia e consome durante o processo\n",
    "display(dados_geracao)\n",
    "\n",
    "# quanto de energia cada consumidor (carga) necessita\n",
    "display(dados_carga)\n",
    "\n",
    "# restricoes de atendimento entre consumidor e gerador\n",
    "display(dados_dependencia)"
   ]
  },
  {
   "cell_type": "markdown",
   "id": "6f079bee-9a68-47be-ad13-6e5cc72d16b5",
   "metadata": {},
   "source": [
    "## Modeling (Formula)"
   ]
  },
  {
   "cell_type": "markdown",
   "id": "5cf9bb19-97a3-4b90-9bda-1b9cdcab4072",
   "metadata": {},
   "source": [
    "**Legenda:**\n",
    "C = custo;\n",
    "c = consumo;\n",
    "P = potencia;\n",
    "g = geração;"
   ]
  },
  {
   "cell_type": "markdown",
   "id": "39c9c32c-cb81-4b94-a511-aeb0ee1fc489",
   "metadata": {},
   "source": [
    "\\begin{equation*}\n",
    "min \\sum \\limits _{i=0} ^{4} Cg(i)Pg(i)\n",
    "\\end{equation*}\n",
    "\n",
    "\\begin{equation*}\n",
    "\\sum \\limits _{i=0} ^{4} Pg(i) = \\sum \\limits _{j=0} ^{2} Pc(j)\n",
    "\\end{equation*}\n",
    "\n",
    "\\begin{equation*}\n",
    "Pc(0) \\leq Pg(0) + Pg(3)\n",
    "\\end{equation*}\n",
    "\n",
    "\\begin{equation*}\n",
    "Pg(i) \\geq 0, \\forall i\n",
    "\\end{equation*}\n",
    "\n",
    "\\begin{equation*}\n",
    "Pg(i) \\leq Pg(i)^{lim}, \\forall i\n",
    "\\end{equation*}\n"
   ]
  },
  {
   "cell_type": "markdown",
   "id": "58cd4897-58f0-4247-bc56-a2430db43a4d",
   "metadata": {},
   "source": [
    "## Code in pyome + glpk"
   ]
  },
  {
   "cell_type": "code",
   "execution_count": 28,
   "id": "630a2dd2-8253-4e55-a02f-aed95dfaa5ba",
   "metadata": {},
   "outputs": [
    {
     "name": "stdout",
     "output_type": "stream",
     "text": [
      "3 Set Declarations\n",
      "    Pg_index : Size=1, Index=None, Ordered=False\n",
      "        Key  : Dimen : Domain : Size : Members\n",
      "        None :     1 :    Any :    5 : {0, 1, 2, 3, 4}\n",
      "    cond_index : Size=1, Index=None, Ordered=Insertion\n",
      "        Key  : Dimen : Domain : Size : Members\n",
      "        None :     1 :    Any :    1 :    {1,}\n",
      "    limites_index : Size=1, Index=None, Ordered=Insertion\n",
      "        Key  : Dimen : Domain : Size : Members\n",
      "        None :     1 :    Any :    5 : {1, 2, 3, 4, 5}\n",
      "\n",
      "1 Var Declarations\n",
      "    Pg : Size=5, Index=Pg_index\n",
      "        Key : Lower : Value : Upper : Fixed : Stale : Domain\n",
      "          0 :     0 :  20.0 :  None : False : False :  Reals\n",
      "          1 :     0 :  10.0 :  None : False : False :  Reals\n",
      "          2 :     0 :  35.0 :  None : False : False :  Reals\n",
      "          3 :     0 :  30.0 :  None : False : False :  Reals\n",
      "          4 :     0 :   5.0 :  None : False : False :  Reals\n",
      "\n",
      "1 Objective Declarations\n",
      "    obj : Size=1, Index=None, Active=True\n",
      "        Key  : Active : Sense    : Expression\n",
      "        None :   True : minimize : 0.1*Pg[0] + 0.05*Pg[1] + 0.3*Pg[2] + 0.4*Pg[3] + 0.01*Pg[4]\n",
      "\n",
      "3 Constraint Declarations\n",
      "    balanco : Size=1, Index=None, Active=True\n",
      "        Key  : Lower : Body                                  : Upper : Active\n",
      "        None : 100.0 : Pg[0] + Pg[1] + Pg[2] + Pg[3] + Pg[4] : 100.0 :   True\n",
      "    cond : Size=1, Index=cond_index, Active=True\n",
      "        Key : Lower : Body          : Upper : Active\n",
      "          1 :  50.0 : Pg[0] + Pg[3] :  +Inf :   True\n",
      "    limites : Size=5, Index=limites_index, Active=True\n",
      "        Key : Lower : Body  : Upper : Active\n",
      "          1 :  -Inf : Pg[0] :  20.0 :   True\n",
      "          2 :  -Inf : Pg[1] :  10.0 :   True\n",
      "          3 :  -Inf : Pg[2] :  40.0 :   True\n",
      "          4 :  -Inf : Pg[3] :  50.0 :   True\n",
      "          5 :  -Inf : Pg[4] :   5.0 :   True\n",
      "\n",
      "8 Declarations: Pg_index Pg balanco cond_index cond limites_index limites obj\n"
     ]
    }
   ],
   "source": [
    "model = pyo.ConcreteModel()\n",
    "\n",
    "model.Pg = pyo.Var(range(Ng), bounds=(0,None)) #restricao 3: bound 0\n",
    "Pg = model.Pg\n",
    "\n",
    "#restricao 1\n",
    "model.balanco = pyo.Constraint(expr = sum([Pg[i] for i in dados_geracao.id])==sum(dados_carga.valor) )\n",
    "\n",
    "#restricao 2\n",
    "#model.cond = pyo.Constraint(expr = float(dados_carga.valor[0]) <= Pg[0]+Pg[3])\n",
    "model.cond = pyo.ConstraintList()\n",
    "for c in dados_dependencia.carga.unique():\n",
    "    model.cond.add(expr = float(dados_carga.valor[c]) <= sum([Pg[i] for i in dados_dependencia.gerador[dados_dependencia.carga==c]]))\n",
    "\n",
    "#restricao 4\n",
    "model.limites = pyo.ConstraintList()\n",
    "for i in dados_geracao.id:\n",
    "    model.limites.add(expr = Pg[i]<=float(dados_geracao.maximo[i]))\n",
    "    \n",
    "#obj\n",
    "model.obj = pyo.Objective(expr = sum([Pg[i]*float(dados_geracao.custo[i]) for i in dados_geracao.id]))\n",
    "\n",
    "opt = SolverFactory('glpk')\n",
    "opt.solve(model)\n",
    "\n",
    "model.pprint()\n",
    "\n",
    "#dados_geracao['geracao'] = [pyo.value(Pg[g]) for g in dados_geracao.id]"
   ]
  },
  {
   "cell_type": "code",
   "execution_count": null,
   "id": "ee8b1a71-09fd-4c87-998c-b134f733aaa1",
   "metadata": {},
   "outputs": [],
   "source": []
  }
 ],
 "metadata": {
  "kernelspec": {
   "display_name": "Python 3",
   "language": "python",
   "name": "python3"
  },
  "language_info": {
   "codemirror_mode": {
    "name": "ipython",
    "version": 3
   },
   "file_extension": ".py",
   "mimetype": "text/x-python",
   "name": "python",
   "nbconvert_exporter": "python",
   "pygments_lexer": "ipython3",
   "version": "3.9.5"
  }
 },
 "nbformat": 4,
 "nbformat_minor": 5
}

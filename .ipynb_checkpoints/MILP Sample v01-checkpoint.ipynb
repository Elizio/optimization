{
 "cells": [
  {
   "cell_type": "markdown",
   "id": "9a317558-1e5a-4c00-8f78-f7f58ec046d2",
   "metadata": {},
   "source": [
    "# Mixed Integer Linear Programming (MILP)"
   ]
  },
  {
   "cell_type": "markdown",
   "id": "184e759b-75ba-4c85-8b3a-e359e173eb29",
   "metadata": {},
   "source": [
    "- We just need to define the target variable as integer, e.g.: **model.x = pyo.Var(within=Integer)**"
   ]
  },
  {
   "cell_type": "markdown",
   "id": "e42b4c5b-9482-45f0-93be-7ff481156c5c",
   "metadata": {},
   "source": [
    "## Sample 1"
   ]
  },
  {
   "cell_type": "code",
   "execution_count": 1,
   "id": "48eadd6c-5b4a-48f7-a3c0-2782f59d0b83",
   "metadata": {},
   "outputs": [
    {
     "name": "stdout",
     "output_type": "stream",
     "text": [
      "2 Var Declarations\n",
      "    x : Size=1, Index=None\n",
      "        Key  : Lower : Value : Upper : Fixed : Stale : Domain\n",
      "        None :     0 :   4.0 :    10 : False : False : Integers\n",
      "    y : Size=1, Index=None\n",
      "        Key  : Lower : Value : Upper : Fixed : Stale : Domain\n",
      "        None :     0 :   5.5 :    10 : False : False :  Reals\n",
      "\n",
      "1 Objective Declarations\n",
      "    obj : Size=1, Index=None, Active=True\n",
      "        Key  : Active : Sense    : Expression\n",
      "        None :   True : maximize : x + y\n",
      "\n",
      "3 Constraint Declarations\n",
      "    C1 : Size=1, Index=None, Active=True\n",
      "        Key  : Lower : Body      : Upper : Active\n",
      "        None :  -Inf : - x + 2*y :   7.0 :   True\n",
      "    C2 : Size=1, Index=None, Active=True\n",
      "        Key  : Lower : Body    : Upper : Active\n",
      "        None :  -Inf : 2*x + y :  14.0 :   True\n",
      "    C3 : Size=1, Index=None, Active=True\n",
      "        Key  : Lower : Body    : Upper : Active\n",
      "        None :  -Inf : 2*x - y :  10.0 :   True\n",
      "\n",
      "6 Declarations: x y C1 C2 C3 obj\n",
      "\n",
      "---------------------------------------------------------------------\n",
      "x= 4.0\n",
      "y= 5.5\n"
     ]
    }
   ],
   "source": [
    "import pyomo.environ as pyo\n",
    "from pyomo.environ import *\n",
    "from pyomo.opt import SolverFactory\n",
    "\n",
    "model = pyo.ConcreteModel()\n",
    "\n",
    "model.x = pyo.Var(within=Integers, bounds=(0,10))\n",
    "model.y = pyo.Var(bounds=(0,10))\n",
    "x = model.x\n",
    "y = model.y\n",
    "\n",
    "model.C1 = pyo.Constraint(expr= -x+2*y<=7)\n",
    "model.C2 = pyo.Constraint(expr= 2*x+y<=14)\n",
    "model.C3 = pyo.Constraint(expr= 2*x-y<=10)\n",
    "\n",
    "model.obj = pyo.Objective(expr= x+y, sense=maximize)\n",
    "\n",
    "opt = SolverFactory('glpk')\n",
    "opt.solve(model)\n",
    "\n",
    "model.pprint()\n",
    "\n",
    "x_value = pyo.value(x)\n",
    "y_value = pyo.value(y)\n",
    "\n",
    "print('\\n---------------------------------------------------------------------')\n",
    "print('x=',x_value)\n",
    "print('y=',y_value)"
   ]
  },
  {
   "cell_type": "markdown",
   "id": "53d85e1d-18f0-4312-975b-3ffd2f16b95b",
   "metadata": {},
   "source": [
    "## Sample 2"
   ]
  },
  {
   "cell_type": "code",
   "execution_count": null,
   "id": "ffe35c37-a2fe-4915-9079-c98e34248c49",
   "metadata": {},
   "outputs": [],
   "source": []
  }
 ],
 "metadata": {
  "kernelspec": {
   "display_name": "Python 3",
   "language": "python",
   "name": "python3"
  },
  "language_info": {
   "codemirror_mode": {
    "name": "ipython",
    "version": 3
   },
   "file_extension": ".py",
   "mimetype": "text/x-python",
   "name": "python",
   "nbconvert_exporter": "python",
   "pygments_lexer": "ipython3",
   "version": "3.9.5"
  }
 },
 "nbformat": 4,
 "nbformat_minor": 5
}

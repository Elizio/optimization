{
 "cells": [
  {
   "cell_type": "markdown",
   "id": "ee61c4bd-fe90-46fd-9b86-84ac46c3ac3b",
   "metadata": {},
   "source": [
    "# Test 01"
   ]
  },
  {
   "cell_type": "markdown",
   "id": "e6c81c9c-ba9c-4f92-8939-8a3849d2b876",
   "metadata": {},
   "source": [
    "\\begin{equation*}\n",
    "min \\sum \\limits _{i=1} ^{5} x_i + y\n",
    "\\end{equation*}\n",
    "\n",
    "\\begin{equation*}\n",
    "\\text{C1: } \\sum \\limits _{i=1} ^{5} x_i + y \\leq 20\n",
    "\\end{equation*}\n",
    "\n",
    "\\begin{equation*}\n",
    "\\text{C2: }x_i + y \\geq 15, \\forall i\n",
    "\\end{equation*}\n",
    "\n",
    "\\begin{equation*}\n",
    "\\text{C3: }\\sum \\limits _{i=1} ^{5} i.x_i \\geq 10\n",
    "\\end{equation*}\n",
    "\n",
    "\\begin{equation*}\n",
    "\\text{C4: }x_5 + 2y \\geq 30\n",
    "\\end{equation*}\n",
    "\n",
    "\\begin{equation*}\n",
    "\\text{C5: }x_i, y \\geq 0\n",
    "\\end{equation*}\n",
    "\n",
    "\\begin{equation*}\n",
    "\\text{C6: }x_i \\text{ inteiro}, \\forall i\n",
    "\\end{equation*}"
   ]
  },
  {
   "cell_type": "code",
   "execution_count": 91,
   "id": "80a7ca0c-c1e1-4bb1-81d1-c904194c02d7",
   "metadata": {},
   "outputs": [],
   "source": [
    "import time\n",
    "import numpy as np\n",
    "\n",
    "import pyomo.environ as pyo\n",
    "from pyomo.environ import *\n",
    "from pyomo.opt import SolverFactory"
   ]
  },
  {
   "cell_type": "code",
   "execution_count": 92,
   "id": "104d77cb-718e-4bb7-b858-66fa471ad8ab",
   "metadata": {},
   "outputs": [
    {
     "data": {
      "text/plain": [
       "array([1, 2, 3, 4, 5])"
      ]
     },
     "execution_count": 92,
     "metadata": {},
     "output_type": "execute_result"
    }
   ],
   "source": [
    "vec_i = np.array(range(5))\n",
    "vec_i = vec_i+1\n",
    "vec_i"
   ]
  },
  {
   "cell_type": "code",
   "execution_count": 93,
   "id": "0ecf0fc8-2521-4dc1-81c8-f1eaf5d1ff37",
   "metadata": {},
   "outputs": [
    {
     "name": "stdout",
     "output_type": "stream",
     "text": [
      "2 Set Declarations\n",
      "    C2_index : Size=1, Index=None, Ordered=Insertion\n",
      "        Key  : Dimen : Domain : Size : Members\n",
      "        None :     1 :    Any :    5 : {1, 2, 3, 4, 5}\n",
      "    x_index : Size=1, Index=None, Ordered=False\n",
      "        Key  : Dimen : Domain : Size : Members\n",
      "        None :     1 :    Any :    5 : {1, 2, 3, 4, 5}\n",
      "\n",
      "2 Var Declarations\n",
      "    x : Size=5, Index=x_index\n",
      "        Key : Lower : Value : Upper : Fixed : Stale : Domain\n",
      "          1 :     0 :   0.0 :  None : False : False : Integers\n",
      "          2 :     0 :   0.0 :  None : False : False : Integers\n",
      "          3 :     0 :   0.0 :  None : False : False : Integers\n",
      "          4 :     0 :   0.0 :  None : False : False : Integers\n",
      "          5 :     0 :   2.0 :  None : False : False : Integers\n",
      "    y : Size=1, Index=None\n",
      "        Key  : Lower : Value : Upper : Fixed : Stale : Domain\n",
      "        None :     0 :  15.0 :  None : False : False :  Reals\n",
      "\n",
      "1 Objective Declarations\n",
      "    obj : Size=1, Index=None, Active=True\n",
      "        Key  : Active : Sense    : Expression\n",
      "        None :   True : minimize : x[1] + x[2] + x[3] + x[4] + x[5] + y\n",
      "\n",
      "4 Constraint Declarations\n",
      "    C1 : Size=1, Index=None, Active=True\n",
      "        Key  : Lower : Body                                 : Upper : Active\n",
      "        None :  -Inf : x[1] + x[2] + x[3] + x[4] + x[5] + y :  20.0 :   True\n",
      "    C2 : Size=5, Index=C2_index, Active=True\n",
      "        Key : Lower : Body     : Upper : Active\n",
      "          1 :  15.0 : x[1] + y :  +Inf :   True\n",
      "          2 :  15.0 : x[2] + y :  +Inf :   True\n",
      "          3 :  15.0 : x[3] + y :  +Inf :   True\n",
      "          4 :  15.0 : x[4] + y :  +Inf :   True\n",
      "          5 :  15.0 : x[5] + y :  +Inf :   True\n",
      "    C3 : Size=1, Index=None, Active=True\n",
      "        Key  : Lower : Body                                     : Upper : Active\n",
      "        None :  10.0 : x[1] + 2*x[2] + 3*x[3] + 4*x[4] + 5*x[5] :  +Inf :   True\n",
      "    C4 : Size=1, Index=None, Active=True\n",
      "        Key  : Lower : Body       : Upper : Active\n",
      "        None :  30.0 : x[5] + 2*y :  +Inf :   True\n",
      "\n",
      "9 Declarations: x_index x y C1 C2_index C2 C3 C4 obj\n",
      "\n",
      "Problem: \n",
      "- Name: unknown\n",
      "  Lower bound: 17.0\n",
      "  Upper bound: 17.0\n",
      "  Number of objectives: 1\n",
      "  Number of constraints: 9\n",
      "  Number of variables: 7\n",
      "  Number of nonzeros: 24\n",
      "  Sense: minimize\n",
      "Solver: \n",
      "- Status: ok\n",
      "  Termination condition: optimal\n",
      "  Statistics: \n",
      "    Branch and bound: \n",
      "      Number of bounded subproblems: 1\n",
      "      Number of created subproblems: 1\n",
      "  Error rc: 0\n",
      "  Time: 0.3094649314880371\n",
      "Solution: \n",
      "- number of solutions: 0\n",
      "  number of solutions displayed: 0\n",
      "\n",
      "Tempo = 0.35\n",
      "x[1] = 0\n",
      "x[2] = 0\n",
      "x[3] = 0\n",
      "x[4] = 0\n",
      "x[5] = 2\n",
      "y = 15.00\n",
      "Obj =  17.0\n"
     ]
    }
   ],
   "source": [
    "model = pyo.ConcreteModel()\n",
    "\n",
    "model.x = pyo.Var(range(1,6), bounds=(0,None), within=Integers) # constrain 5 and 6\n",
    "model.y = pyo.Var(bounds=(0,None)) # constrain 5\n",
    "x = model.x\n",
    "y = model.y\n",
    "\n",
    "#model.C1 = pyo.Constraint(expr = sum([(x[i] + y) for i in vec_i]) <= 20)\n",
    "model.C1 = pyo.Constraint(expr = (sum([(x[i]) for i in vec_i]) + y) <= 20)\n",
    "\n",
    "model.C2 = pyo.ConstraintList()\n",
    "for i in vec_i:\n",
    "    model.C2.add(expr = x[i] + y >= 15)\n",
    "\n",
    "model.C3 = pyo.Constraint(expr = sum([(i * x[i]) for i in vec_i]) >= 10)\n",
    "\n",
    "model.C4 = pyo.Constraint(expr = x[5] + 2*y >= 30)\n",
    "\n",
    "#FO\n",
    "model.obj = pyo.Objective(expr = sum([x[i] for i in vec_i]) + y)\n",
    "\n",
    "begin = time.time()\n",
    "opt = SolverFactory('glpk')\n",
    "result = opt.solve(model)\n",
    "deltaT = time.time() - begin\n",
    "\n",
    "model.pprint()\n",
    "\n",
    "# printing a summary of the model\n",
    "print(result)\n",
    "\n",
    "print('Tempo =', np.round(deltaT,2))\n",
    "\n",
    "for i in range(1,6):\n",
    "    print('x[%i] = %i' % (i, pyo.value(x[i])))\n",
    "print('y = %.2f' % pyo.value(y))\n",
    "print('Obj = ', pyo.value(model.obj))"
   ]
  },
  {
   "cell_type": "code",
   "execution_count": null,
   "id": "07f4f191-258d-4336-bcf6-b3692e141b94",
   "metadata": {},
   "outputs": [],
   "source": []
  }
 ],
 "metadata": {
  "kernelspec": {
   "display_name": "Python 3",
   "language": "python",
   "name": "python3"
  },
  "language_info": {
   "codemirror_mode": {
    "name": "ipython",
    "version": 3
   },
   "file_extension": ".py",
   "mimetype": "text/x-python",
   "name": "python",
   "nbconvert_exporter": "python",
   "pygments_lexer": "ipython3",
   "version": "3.9.5"
  }
 },
 "nbformat": 4,
 "nbformat_minor": 5
}

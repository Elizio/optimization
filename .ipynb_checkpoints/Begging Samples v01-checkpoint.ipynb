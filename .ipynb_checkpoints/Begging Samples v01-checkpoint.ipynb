{
 "cells": [
  {
   "cell_type": "markdown",
   "id": "c61d6da0-53ec-4a12-bc39-1ef889ebed71",
   "metadata": {},
   "source": [
    "# First Problem"
   ]
  },
  {
   "cell_type": "markdown",
   "id": "e18f3540-e65c-4af9-b1e4-d9d522d6cd37",
   "metadata": {},
   "source": [
    "<b>max x + y </b><br/>\n",
    "-x + 2y <=8 <br/>\n",
    "2x + y <= 14 <br/>\n",
    "2x - y <=10 <br/>\n",
    "0 <= x <= 10 <br/>\n",
    "0 <= y <= 10 <br/>"
   ]
  },
  {
   "cell_type": "markdown",
   "id": "89815743-dc79-4090-af01-9e156b4b656b",
   "metadata": {},
   "source": [
    "## Ortools"
   ]
  },
  {
   "cell_type": "code",
   "execution_count": 6,
   "id": "b5ec9cd3-df59-4fbe-9ca9-d805217240fc",
   "metadata": {},
   "outputs": [
    {
     "ename": "ModuleNotFoundError",
     "evalue": "No module named 'ortools'",
     "output_type": "error",
     "traceback": [
      "\u001b[1;31m---------------------------------------------------------------------------\u001b[0m",
      "\u001b[1;31mModuleNotFoundError\u001b[0m                       Traceback (most recent call last)",
      "\u001b[1;32m<ipython-input-6-a2b3c6c8aeae>\u001b[0m in \u001b[0;36m<module>\u001b[1;34m\u001b[0m\n\u001b[1;32m----> 1\u001b[1;33m \u001b[1;32mimport\u001b[0m \u001b[0mortools\u001b[0m\u001b[1;33m.\u001b[0m\u001b[0mlinear_solver\u001b[0m\u001b[1;33m.\u001b[0m\u001b[0mpywraplp\u001b[0m \u001b[1;32mas\u001b[0m \u001b[0motlp\u001b[0m\u001b[1;33m\u001b[0m\u001b[1;33m\u001b[0m\u001b[0m\n\u001b[0m\u001b[0;32m      2\u001b[0m \u001b[1;33m\u001b[0m\u001b[0m\n\u001b[0;32m      3\u001b[0m \u001b[0msolver\u001b[0m \u001b[1;33m=\u001b[0m \u001b[0motlp\u001b[0m\u001b[1;33m.\u001b[0m\u001b[0mSolver\u001b[0m\u001b[1;33m(\u001b[0m\u001b[1;34m'teste'\u001b[0m\u001b[1;33m,\u001b[0m\u001b[0motlp\u001b[0m\u001b[1;33m.\u001b[0m\u001b[0mSolver\u001b[0m\u001b[1;33m.\u001b[0m\u001b[0mGLOP_LINEAR_PROGRAMMING\u001b[0m\u001b[1;33m)\u001b[0m\u001b[1;33m\u001b[0m\u001b[1;33m\u001b[0m\u001b[0m\n\u001b[0;32m      4\u001b[0m \u001b[1;33m\u001b[0m\u001b[0m\n\u001b[0;32m      5\u001b[0m \u001b[0mx\u001b[0m \u001b[1;33m=\u001b[0m \u001b[0msolver\u001b[0m\u001b[1;33m.\u001b[0m\u001b[0mNumVar\u001b[0m\u001b[1;33m(\u001b[0m\u001b[1;36m0\u001b[0m\u001b[1;33m,\u001b[0m\u001b[1;36m10\u001b[0m\u001b[1;33m,\u001b[0m\u001b[1;34m'x'\u001b[0m\u001b[1;33m)\u001b[0m\u001b[1;33m\u001b[0m\u001b[1;33m\u001b[0m\u001b[0m\n",
      "\u001b[1;31mModuleNotFoundError\u001b[0m: No module named 'ortools'"
     ]
    }
   ],
   "source": [
    "import ortools.linear_solver.pywraplp as otlp\n",
    "\n",
    "solver = otlp.Solver('teste',otlp.Solver.GLOP_LINEAR_PROGRAMMING)\n",
    "\n",
    "x = solver.NumVar(0,10,'x')\n",
    "y = solver.NumVar(0,10,'y')\n",
    "\n",
    "solver.Add(-x+2*y<=8)\n",
    "solver.Add(2*x+y<=14)\n",
    "solver.Add(2*x-y<=10)\n",
    "\n",
    "solver.Maximize(x+y)\n",
    "\n",
    "results = solver.Solve()\n",
    "\n",
    "if results==otlp.Solver.OPTIMAL:\n",
    "    print('Resultado Encontrado')\n",
    "else:\n",
    "    print('Resultado NÃO Encontrado')\n",
    "    \n",
    "print('x=',x.solution_value())\n",
    "print('y=',y.solution_value())"
   ]
  },
  {
   "cell_type": "markdown",
   "id": "2c231c79-4138-4003-892b-3e2dabe35f02",
   "metadata": {},
   "source": [
    "## SCIP"
   ]
  },
  {
   "cell_type": "code",
   "execution_count": 4,
   "id": "f4356298-9481-4271-bbd0-261df689760b",
   "metadata": {},
   "outputs": [
    {
     "ename": "ModuleNotFoundError",
     "evalue": "No module named 'pyscipopt'",
     "output_type": "error",
     "traceback": [
      "\u001b[1;31m---------------------------------------------------------------------------\u001b[0m",
      "\u001b[1;31mModuleNotFoundError\u001b[0m                       Traceback (most recent call last)",
      "\u001b[1;32m<ipython-input-4-2745d7f9c32c>\u001b[0m in \u001b[0;36m<module>\u001b[1;34m\u001b[0m\n\u001b[1;32m----> 1\u001b[1;33m \u001b[1;32mfrom\u001b[0m \u001b[0mpyscipopt\u001b[0m \u001b[1;32mimport\u001b[0m \u001b[0mModel\u001b[0m\u001b[1;33m\u001b[0m\u001b[1;33m\u001b[0m\u001b[0m\n\u001b[0m\u001b[0;32m      2\u001b[0m \u001b[1;33m\u001b[0m\u001b[0m\n\u001b[0;32m      3\u001b[0m \u001b[0mmodel\u001b[0m \u001b[1;33m=\u001b[0m \u001b[0mModel\u001b[0m\u001b[1;33m(\u001b[0m\u001b[1;34m'exemplo'\u001b[0m\u001b[1;33m)\u001b[0m\u001b[1;33m\u001b[0m\u001b[1;33m\u001b[0m\u001b[0m\n\u001b[0;32m      4\u001b[0m \u001b[1;33m\u001b[0m\u001b[0m\n\u001b[0;32m      5\u001b[0m \u001b[0mx\u001b[0m \u001b[1;33m=\u001b[0m \u001b[0mmodel\u001b[0m\u001b[1;33m.\u001b[0m\u001b[0maddVar\u001b[0m\u001b[1;33m(\u001b[0m\u001b[1;34m'x'\u001b[0m\u001b[1;33m)\u001b[0m\u001b[1;33m\u001b[0m\u001b[1;33m\u001b[0m\u001b[0m\n",
      "\u001b[1;31mModuleNotFoundError\u001b[0m: No module named 'pyscipopt'"
     ]
    }
   ],
   "source": [
    "from pyscipopt import Model\n",
    "\n",
    "model = Model('exemplo')\n",
    "\n",
    "x = model.addVar('x')\n",
    "y = model.addVar('y')\n",
    "\n",
    "model.setObjective(x+y, sense='maximize')\n",
    "\n",
    "model.addCons(-x+2*y<=8)\n",
    "model.addCons(2*x+y<=14)\n",
    "model.addCons(2*x-y<=10)\n",
    "\n",
    "model.optimize()\n",
    "\n",
    "sol = model.getBestSol()\n",
    "\n",
    "print('x=',sol[x])\n",
    "print('y=',sol[y])"
   ]
  },
  {
   "cell_type": "markdown",
   "id": "4da93572-8b90-4d90-a89d-bdd1aab59bea",
   "metadata": {},
   "source": [
    "## Pyomo"
   ]
  },
  {
   "cell_type": "code",
   "execution_count": null,
   "id": "8d753643-6753-429a-8283-0314e7a0ff31",
   "metadata": {},
   "outputs": [],
   "source": [
    "import pyomo.environ as pyo\n",
    "from pyomo.environ import *\n",
    "from pyomo.opt import SolverFactory\n",
    "\n",
    "model = pyo.ConcreteModel()\n",
    "\n",
    "model.x = pyo.Var(bounds=(0,10))\n",
    "model.y = pyo.Var(bounds=(0,10))\n",
    "x = model.x\n",
    "y = model.y\n",
    "\n",
    "model.C1 = pyo.Constraint(expr= -x+2*y<=8)\n",
    "model.C2 = pyo.Constraint(expr= 2*x+y<=14)\n",
    "model.C3 = pyo.Constraint(expr= 2*x-y<=10)\n",
    "\n",
    "model.obj = pyo.Objective(expr= x+y, sense=maximize)\n",
    "\n",
    "opt = SolverFactory('glpk')\n",
    "opt.solve(model)\n",
    "\n",
    "model.pprint()\n",
    "\n",
    "x_value = pyo.value(x)\n",
    "y_value = pyo.value(y)\n",
    "\n",
    "print('\\n---------------------------------------------------------------------')\n",
    "print('x=',x_value)\n",
    "print('y=',y_value)"
   ]
  }
 ],
 "metadata": {
  "kernelspec": {
   "display_name": "Python 3",
   "language": "python",
   "name": "python3"
  },
  "language_info": {
   "codemirror_mode": {
    "name": "ipython",
    "version": 3
   },
   "file_extension": ".py",
   "mimetype": "text/x-python",
   "name": "python",
   "nbconvert_exporter": "python",
   "pygments_lexer": "ipython3",
   "version": "3.8.5"
  }
 },
 "nbformat": 4,
 "nbformat_minor": 5
}

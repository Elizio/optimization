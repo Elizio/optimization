{
 "cells": [
  {
   "cell_type": "markdown",
   "id": "c61d6da0-53ec-4a12-bc39-1ef889ebed71",
   "metadata": {},
   "source": [
    "# First Problem"
   ]
  },
  {
   "cell_type": "markdown",
   "id": "e18f3540-e65c-4af9-b1e4-d9d522d6cd37",
   "metadata": {},
   "source": [
    "<b>max x + y </b><br/>\n",
    "-x + 2y <=8 <br/>\n",
    "2x + y <= 14 <br/>\n",
    "2x - y <=10 <br/>\n",
    "0 <= x <= 10 <br/>\n",
    "0 <= y <= 10 <br/>"
   ]
  },
  {
   "cell_type": "markdown",
   "id": "89815743-dc79-4090-af01-9e156b4b656b",
   "metadata": {},
   "source": [
    "## Ortools"
   ]
  },
  {
   "cell_type": "code",
   "execution_count": 1,
   "id": "b5ec9cd3-df59-4fbe-9ca9-d805217240fc",
   "metadata": {},
   "outputs": [
    {
     "name": "stdout",
     "output_type": "stream",
     "text": [
      "Resultado Encontrado\n",
      "x= 4.0\n",
      "y= 6.0\n"
     ]
    }
   ],
   "source": [
    "import ortools.linear_solver.pywraplp as otlp\n",
    "\n",
    "solver = otlp.Solver('teste',otlp.Solver.GLOP_LINEAR_PROGRAMMING)\n",
    "\n",
    "x = solver.NumVar(0,10,'x')\n",
    "y = solver.NumVar(0,10,'y')\n",
    "\n",
    "solver.Add(-x+2*y<=8)\n",
    "solver.Add(2*x+y<=14)\n",
    "solver.Add(2*x-y<=10)\n",
    "\n",
    "solver.Maximize(x+y)\n",
    "\n",
    "results = solver.Solve()\n",
    "\n",
    "if results==otlp.Solver.OPTIMAL:\n",
    "    print('Resultado Encontrado')\n",
    "else:\n",
    "    print('Resultado NÃO Encontrado')\n",
    "    \n",
    "print('x=',x.solution_value())\n",
    "print('y=',y.solution_value())"
   ]
  },
  {
   "cell_type": "markdown",
   "id": "2c231c79-4138-4003-892b-3e2dabe35f02",
   "metadata": {},
   "source": [
    "## SCIP"
   ]
  },
  {
   "cell_type": "code",
   "execution_count": null,
   "id": "f4356298-9481-4271-bbd0-261df689760b",
   "metadata": {},
   "outputs": [],
   "source": [
    "from pyscipopt import Model\n",
    "\n",
    "model = Model('exemplo')\n",
    "\n",
    "x = model.addVar('x')\n",
    "y = model.addVar('y')\n",
    "\n",
    "model.setObjective(x+y, sense='maximize')\n",
    "\n",
    "model.addCons(-x+2*y<=8)\n",
    "model.addCons(2*x+y<=14)\n",
    "model.addCons(2*x-y<=10)\n",
    "\n",
    "model.optimize()\n",
    "\n",
    "sol = model.getBestSol()\n",
    "\n",
    "print('x=',sol[x])\n",
    "print('y=',sol[y])"
   ]
  },
  {
   "cell_type": "markdown",
   "id": "4da93572-8b90-4d90-a89d-bdd1aab59bea",
   "metadata": {},
   "source": [
    "## Pyomo"
   ]
  },
  {
   "cell_type": "code",
   "execution_count": 4,
   "id": "8d753643-6753-429a-8283-0314e7a0ff31",
   "metadata": {},
   "outputs": [
    {
     "name": "stdout",
     "output_type": "stream",
     "text": [
      "2 Var Declarations\n",
      "    x : Size=1, Index=None\n",
      "        Key  : Lower : Value : Upper : Fixed : Stale : Domain\n",
      "        None :     0 :   4.0 :    10 : False : False :  Reals\n",
      "    y : Size=1, Index=None\n",
      "        Key  : Lower : Value : Upper : Fixed : Stale : Domain\n",
      "        None :     0 :   6.0 :    10 : False : False :  Reals\n",
      "\n",
      "1 Objective Declarations\n",
      "    obj : Size=1, Index=None, Active=True\n",
      "        Key  : Active : Sense    : Expression\n",
      "        None :   True : maximize : x + y\n",
      "\n",
      "3 Constraint Declarations\n",
      "    C1 : Size=1, Index=None, Active=True\n",
      "        Key  : Lower : Body      : Upper : Active\n",
      "        None :  -Inf : - x + 2*y :   8.0 :   True\n",
      "    C2 : Size=1, Index=None, Active=True\n",
      "        Key  : Lower : Body    : Upper : Active\n",
      "        None :  -Inf : 2*x + y :  14.0 :   True\n",
      "    C3 : Size=1, Index=None, Active=True\n",
      "        Key  : Lower : Body    : Upper : Active\n",
      "        None :  -Inf : 2*x - y :  10.0 :   True\n",
      "\n",
      "6 Declarations: x y C1 C2 C3 obj\n",
      "\n",
      "---------------------------------------------------------------------\n",
      "x= 4.0\n",
      "y= 6.0\n"
     ]
    }
   ],
   "source": [
    "import pyomo.environ as pyo\n",
    "from pyomo.environ import *\n",
    "from pyomo.opt import SolverFactory\n",
    "\n",
    "model = pyo.ConcreteModel()\n",
    "\n",
    "model.x = pyo.Var(bounds=(0,10))\n",
    "model.y = pyo.Var(bounds=(0,10))\n",
    "x = model.x\n",
    "y = model.y\n",
    "\n",
    "model.C1 = pyo.Constraint(expr= -x+2*y<=8)\n",
    "model.C2 = pyo.Constraint(expr= 2*x+y<=14)\n",
    "model.C3 = pyo.Constraint(expr= 2*x-y<=10)\n",
    "\n",
    "model.obj = pyo.Objective(expr= x+y, sense=maximize)\n",
    "\n",
    "opt = SolverFactory('glpk')\n",
    "opt.solve(model)\n",
    "\n",
    "model.pprint()\n",
    "\n",
    "x_value = pyo.value(x)\n",
    "y_value = pyo.value(y)\n",
    "\n",
    "print('\\n---------------------------------------------------------------------')\n",
    "print('x=',x_value)\n",
    "print('y=',y_value)"
   ]
  },
  {
   "cell_type": "code",
   "execution_count": null,
   "id": "c5797e81-938d-4edb-b67e-901fd60fb259",
   "metadata": {},
   "outputs": [],
   "source": []
  }
 ],
 "metadata": {
  "kernelspec": {
   "display_name": "Python 3",
   "language": "python",
   "name": "python3"
  },
  "language_info": {
   "codemirror_mode": {
    "name": "ipython",
    "version": 3
   },
   "file_extension": ".py",
   "mimetype": "text/x-python",
   "name": "python",
   "nbconvert_exporter": "python",
   "pygments_lexer": "ipython3",
   "version": "3.9.5"
  }
 },
 "nbformat": 4,
 "nbformat_minor": 5
}
